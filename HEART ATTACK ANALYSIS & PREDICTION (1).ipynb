{
 "cells": [
  {
   "cell_type": "markdown",
   "id": "066acd23",
   "metadata": {},
   "source": [
    "# PROJECT TOPIC: HEART ATTACK ANALYSIS & PREDICTION"
   ]
  },
  {
   "cell_type": "markdown",
   "id": "320d60fe",
   "metadata": {},
   "source": [
    "![](download-_1_.JPG)"
   ]
  },
  {
   "cell_type": "markdown",
   "id": "9629c829",
   "metadata": {},
   "source": [
    "# Refered from kaggle "
   ]
  },
  {
   "cell_type": "markdown",
   "id": "0dcc010e",
   "metadata": {},
   "source": [
    "### https://www.kaggle.com/datasets/rashikrahmanpritom/heart-attack-analysis-prediction-dataset"
   ]
  },
  {
   "cell_type": "markdown",
   "id": "227c6241",
   "metadata": {},
   "source": [
    "# Problem Statement\n",
    "###  Predict the Heart Attack based on the features provided."
   ]
  },
  {
   "cell_type": "markdown",
   "id": "27c5e453",
   "metadata": {},
   "source": [
    "# Project Contents:\n",
    "\n",
    "### 1.Support Vector Machine\n",
    "\n",
    "### 2.Logistic Regression\n",
    "\n",
    "### 3.Gaussian Naive Bayes\n",
    "\n",
    "### 4.Naive Bayes Classifier for Multivariante Bernoulli Model\n",
    "\n",
    "### 5Random Forest Classifier\n",
    "\n",
    "### 6.Kneighbors Classifier\n",
    "\n",
    "### 7.Gradient Boosting for Classification"
   ]
  },
  {
   "cell_type": "markdown",
   "id": "d5c0f4e1",
   "metadata": {},
   "source": [
    "# 0.Data Dictionary \n",
    "- Age : Age of the patient\n",
    "\n",
    "- Sex : Sex of the patient\n",
    "\n",
    "- exng: exercise induced angina (1 = yes; 0 = no)\n",
    "\n",
    "- caa: number of major vessels (0-3)\n",
    "\n",
    "- cp : Chest Pain type chest pain type\n",
    "         Value 0: typical angina\n",
    "         Value 1: atypical angina\n",
    "         Value 2: non-anginal pain\n",
    "         Value 3: asymptomatic\n",
    "     \n",
    "- trtbps : resting blood pressure (in mm Hg)\n",
    "\n",
    "- oldpeak : ST depression induced by exercise relative to rest\n",
    "\n",
    "- chol : cholestoral in mg/dl fetched via BMI sensor\n",
    "\n",
    "- fbs : (fasting blood sugar > 120 mg/dl) (1 = true; 0 = false)\n",
    "\n",
    "- restecg : resting electrocardiographic results\n",
    "\n",
    "          Value 0: normal\n",
    "          Value 1: having ST-T wave abnormality (T wave inversions and/or ST elevation or depression of > 0.05 mV)\n",
    "          Value 2: showing probable or definite left ventricular hypertrophy by Estes' criteria\n",
    "          \n",
    "- thalachh : maximum heart rate achieved\n",
    "- slp:slope "
   ]
  },
  {
   "cell_type": "markdown",
   "id": "8f6a7119",
   "metadata": {},
   "source": [
    "# 1.Import Libraries "
   ]
  },
  {
   "cell_type": "code",
   "execution_count": 1,
   "id": "e91874ef",
   "metadata": {},
   "outputs": [],
   "source": [
    "import pandas as pd\n",
    "import numpy as np\n",
    "import matplotlib.pyplot as plt\n",
    "import seaborn as sns\n",
    "import warnings\n",
    "warnings.filterwarnings('ignore')"
   ]
  },
  {
   "cell_type": "markdown",
   "id": "8761bb90",
   "metadata": {},
   "source": [
    "# 2.Load the data from given csv file into dataframe  "
   ]
  },
  {
   "cell_type": "code",
   "execution_count": 2,
   "id": "2750ec5a",
   "metadata": {},
   "outputs": [],
   "source": [
    "df=pd.read_csv('heart.csv')"
   ]
  },
  {
   "cell_type": "code",
   "execution_count": 3,
   "id": "05f43169",
   "metadata": {},
   "outputs": [
    {
     "data": {
      "text/html": [
       "<div>\n",
       "<style scoped>\n",
       "    .dataframe tbody tr th:only-of-type {\n",
       "        vertical-align: middle;\n",
       "    }\n",
       "\n",
       "    .dataframe tbody tr th {\n",
       "        vertical-align: top;\n",
       "    }\n",
       "\n",
       "    .dataframe thead th {\n",
       "        text-align: right;\n",
       "    }\n",
       "</style>\n",
       "<table border=\"1\" class=\"dataframe\">\n",
       "  <thead>\n",
       "    <tr style=\"text-align: right;\">\n",
       "      <th></th>\n",
       "      <th>age</th>\n",
       "      <th>sex</th>\n",
       "      <th>cp</th>\n",
       "      <th>trtbps</th>\n",
       "      <th>chol</th>\n",
       "      <th>fbs</th>\n",
       "      <th>restecg</th>\n",
       "      <th>thalachh</th>\n",
       "      <th>exng</th>\n",
       "      <th>oldpeak</th>\n",
       "      <th>slp</th>\n",
       "      <th>caa</th>\n",
       "      <th>thall</th>\n",
       "      <th>output</th>\n",
       "    </tr>\n",
       "  </thead>\n",
       "  <tbody>\n",
       "    <tr>\n",
       "      <th>0</th>\n",
       "      <td>63</td>\n",
       "      <td>1</td>\n",
       "      <td>3</td>\n",
       "      <td>145</td>\n",
       "      <td>233</td>\n",
       "      <td>1</td>\n",
       "      <td>0</td>\n",
       "      <td>150</td>\n",
       "      <td>0</td>\n",
       "      <td>2.3</td>\n",
       "      <td>0</td>\n",
       "      <td>0</td>\n",
       "      <td>1</td>\n",
       "      <td>1</td>\n",
       "    </tr>\n",
       "    <tr>\n",
       "      <th>1</th>\n",
       "      <td>37</td>\n",
       "      <td>1</td>\n",
       "      <td>2</td>\n",
       "      <td>130</td>\n",
       "      <td>250</td>\n",
       "      <td>0</td>\n",
       "      <td>1</td>\n",
       "      <td>187</td>\n",
       "      <td>0</td>\n",
       "      <td>3.5</td>\n",
       "      <td>0</td>\n",
       "      <td>0</td>\n",
       "      <td>2</td>\n",
       "      <td>1</td>\n",
       "    </tr>\n",
       "    <tr>\n",
       "      <th>2</th>\n",
       "      <td>41</td>\n",
       "      <td>0</td>\n",
       "      <td>1</td>\n",
       "      <td>130</td>\n",
       "      <td>204</td>\n",
       "      <td>0</td>\n",
       "      <td>0</td>\n",
       "      <td>172</td>\n",
       "      <td>0</td>\n",
       "      <td>1.4</td>\n",
       "      <td>2</td>\n",
       "      <td>0</td>\n",
       "      <td>2</td>\n",
       "      <td>1</td>\n",
       "    </tr>\n",
       "    <tr>\n",
       "      <th>3</th>\n",
       "      <td>56</td>\n",
       "      <td>1</td>\n",
       "      <td>1</td>\n",
       "      <td>120</td>\n",
       "      <td>236</td>\n",
       "      <td>0</td>\n",
       "      <td>1</td>\n",
       "      <td>178</td>\n",
       "      <td>0</td>\n",
       "      <td>0.8</td>\n",
       "      <td>2</td>\n",
       "      <td>0</td>\n",
       "      <td>2</td>\n",
       "      <td>1</td>\n",
       "    </tr>\n",
       "    <tr>\n",
       "      <th>4</th>\n",
       "      <td>57</td>\n",
       "      <td>0</td>\n",
       "      <td>0</td>\n",
       "      <td>120</td>\n",
       "      <td>354</td>\n",
       "      <td>0</td>\n",
       "      <td>1</td>\n",
       "      <td>163</td>\n",
       "      <td>1</td>\n",
       "      <td>0.6</td>\n",
       "      <td>2</td>\n",
       "      <td>0</td>\n",
       "      <td>2</td>\n",
       "      <td>1</td>\n",
       "    </tr>\n",
       "    <tr>\n",
       "      <th>...</th>\n",
       "      <td>...</td>\n",
       "      <td>...</td>\n",
       "      <td>...</td>\n",
       "      <td>...</td>\n",
       "      <td>...</td>\n",
       "      <td>...</td>\n",
       "      <td>...</td>\n",
       "      <td>...</td>\n",
       "      <td>...</td>\n",
       "      <td>...</td>\n",
       "      <td>...</td>\n",
       "      <td>...</td>\n",
       "      <td>...</td>\n",
       "      <td>...</td>\n",
       "    </tr>\n",
       "    <tr>\n",
       "      <th>298</th>\n",
       "      <td>57</td>\n",
       "      <td>0</td>\n",
       "      <td>0</td>\n",
       "      <td>140</td>\n",
       "      <td>241</td>\n",
       "      <td>0</td>\n",
       "      <td>1</td>\n",
       "      <td>123</td>\n",
       "      <td>1</td>\n",
       "      <td>0.2</td>\n",
       "      <td>1</td>\n",
       "      <td>0</td>\n",
       "      <td>3</td>\n",
       "      <td>0</td>\n",
       "    </tr>\n",
       "    <tr>\n",
       "      <th>299</th>\n",
       "      <td>45</td>\n",
       "      <td>1</td>\n",
       "      <td>3</td>\n",
       "      <td>110</td>\n",
       "      <td>264</td>\n",
       "      <td>0</td>\n",
       "      <td>1</td>\n",
       "      <td>132</td>\n",
       "      <td>0</td>\n",
       "      <td>1.2</td>\n",
       "      <td>1</td>\n",
       "      <td>0</td>\n",
       "      <td>3</td>\n",
       "      <td>0</td>\n",
       "    </tr>\n",
       "    <tr>\n",
       "      <th>300</th>\n",
       "      <td>68</td>\n",
       "      <td>1</td>\n",
       "      <td>0</td>\n",
       "      <td>144</td>\n",
       "      <td>193</td>\n",
       "      <td>1</td>\n",
       "      <td>1</td>\n",
       "      <td>141</td>\n",
       "      <td>0</td>\n",
       "      <td>3.4</td>\n",
       "      <td>1</td>\n",
       "      <td>2</td>\n",
       "      <td>3</td>\n",
       "      <td>0</td>\n",
       "    </tr>\n",
       "    <tr>\n",
       "      <th>301</th>\n",
       "      <td>57</td>\n",
       "      <td>1</td>\n",
       "      <td>0</td>\n",
       "      <td>130</td>\n",
       "      <td>131</td>\n",
       "      <td>0</td>\n",
       "      <td>1</td>\n",
       "      <td>115</td>\n",
       "      <td>1</td>\n",
       "      <td>1.2</td>\n",
       "      <td>1</td>\n",
       "      <td>1</td>\n",
       "      <td>3</td>\n",
       "      <td>0</td>\n",
       "    </tr>\n",
       "    <tr>\n",
       "      <th>302</th>\n",
       "      <td>57</td>\n",
       "      <td>0</td>\n",
       "      <td>1</td>\n",
       "      <td>130</td>\n",
       "      <td>236</td>\n",
       "      <td>0</td>\n",
       "      <td>0</td>\n",
       "      <td>174</td>\n",
       "      <td>0</td>\n",
       "      <td>0.0</td>\n",
       "      <td>1</td>\n",
       "      <td>1</td>\n",
       "      <td>2</td>\n",
       "      <td>0</td>\n",
       "    </tr>\n",
       "  </tbody>\n",
       "</table>\n",
       "<p>303 rows × 14 columns</p>\n",
       "</div>"
      ],
      "text/plain": [
       "     age  sex  cp  trtbps  chol  fbs  restecg  thalachh  exng  oldpeak  slp  \\\n",
       "0     63    1   3     145   233    1        0       150     0      2.3    0   \n",
       "1     37    1   2     130   250    0        1       187     0      3.5    0   \n",
       "2     41    0   1     130   204    0        0       172     0      1.4    2   \n",
       "3     56    1   1     120   236    0        1       178     0      0.8    2   \n",
       "4     57    0   0     120   354    0        1       163     1      0.6    2   \n",
       "..   ...  ...  ..     ...   ...  ...      ...       ...   ...      ...  ...   \n",
       "298   57    0   0     140   241    0        1       123     1      0.2    1   \n",
       "299   45    1   3     110   264    0        1       132     0      1.2    1   \n",
       "300   68    1   0     144   193    1        1       141     0      3.4    1   \n",
       "301   57    1   0     130   131    0        1       115     1      1.2    1   \n",
       "302   57    0   1     130   236    0        0       174     0      0.0    1   \n",
       "\n",
       "     caa  thall  output  \n",
       "0      0      1       1  \n",
       "1      0      2       1  \n",
       "2      0      2       1  \n",
       "3      0      2       1  \n",
       "4      0      2       1  \n",
       "..   ...    ...     ...  \n",
       "298    0      3       0  \n",
       "299    0      3       0  \n",
       "300    2      3       0  \n",
       "301    1      3       0  \n",
       "302    1      2       0  \n",
       "\n",
       "[303 rows x 14 columns]"
      ]
     },
     "execution_count": 3,
     "metadata": {},
     "output_type": "execute_result"
    }
   ],
   "source": [
    "df"
   ]
  },
  {
   "cell_type": "markdown",
   "id": "a7a16504",
   "metadata": {},
   "source": [
    "# 3.Basic Operation of Dataset  \n",
    "- Top 5 Rows\n",
    "- Bottom 5 rows\n",
    "- Information of dataset\n",
    "- Statistical Information\n",
    "- Size of attributes"
   ]
  },
  {
   "cell_type": "code",
   "execution_count": 4,
   "id": "12a41bdf",
   "metadata": {},
   "outputs": [
    {
     "data": {
      "text/html": [
       "<div>\n",
       "<style scoped>\n",
       "    .dataframe tbody tr th:only-of-type {\n",
       "        vertical-align: middle;\n",
       "    }\n",
       "\n",
       "    .dataframe tbody tr th {\n",
       "        vertical-align: top;\n",
       "    }\n",
       "\n",
       "    .dataframe thead th {\n",
       "        text-align: right;\n",
       "    }\n",
       "</style>\n",
       "<table border=\"1\" class=\"dataframe\">\n",
       "  <thead>\n",
       "    <tr style=\"text-align: right;\">\n",
       "      <th></th>\n",
       "      <th>age</th>\n",
       "      <th>sex</th>\n",
       "      <th>cp</th>\n",
       "      <th>trtbps</th>\n",
       "      <th>chol</th>\n",
       "      <th>fbs</th>\n",
       "      <th>restecg</th>\n",
       "      <th>thalachh</th>\n",
       "      <th>exng</th>\n",
       "      <th>oldpeak</th>\n",
       "      <th>slp</th>\n",
       "      <th>caa</th>\n",
       "      <th>thall</th>\n",
       "      <th>output</th>\n",
       "    </tr>\n",
       "  </thead>\n",
       "  <tbody>\n",
       "    <tr>\n",
       "      <th>0</th>\n",
       "      <td>63</td>\n",
       "      <td>1</td>\n",
       "      <td>3</td>\n",
       "      <td>145</td>\n",
       "      <td>233</td>\n",
       "      <td>1</td>\n",
       "      <td>0</td>\n",
       "      <td>150</td>\n",
       "      <td>0</td>\n",
       "      <td>2.3</td>\n",
       "      <td>0</td>\n",
       "      <td>0</td>\n",
       "      <td>1</td>\n",
       "      <td>1</td>\n",
       "    </tr>\n",
       "    <tr>\n",
       "      <th>1</th>\n",
       "      <td>37</td>\n",
       "      <td>1</td>\n",
       "      <td>2</td>\n",
       "      <td>130</td>\n",
       "      <td>250</td>\n",
       "      <td>0</td>\n",
       "      <td>1</td>\n",
       "      <td>187</td>\n",
       "      <td>0</td>\n",
       "      <td>3.5</td>\n",
       "      <td>0</td>\n",
       "      <td>0</td>\n",
       "      <td>2</td>\n",
       "      <td>1</td>\n",
       "    </tr>\n",
       "    <tr>\n",
       "      <th>2</th>\n",
       "      <td>41</td>\n",
       "      <td>0</td>\n",
       "      <td>1</td>\n",
       "      <td>130</td>\n",
       "      <td>204</td>\n",
       "      <td>0</td>\n",
       "      <td>0</td>\n",
       "      <td>172</td>\n",
       "      <td>0</td>\n",
       "      <td>1.4</td>\n",
       "      <td>2</td>\n",
       "      <td>0</td>\n",
       "      <td>2</td>\n",
       "      <td>1</td>\n",
       "    </tr>\n",
       "    <tr>\n",
       "      <th>3</th>\n",
       "      <td>56</td>\n",
       "      <td>1</td>\n",
       "      <td>1</td>\n",
       "      <td>120</td>\n",
       "      <td>236</td>\n",
       "      <td>0</td>\n",
       "      <td>1</td>\n",
       "      <td>178</td>\n",
       "      <td>0</td>\n",
       "      <td>0.8</td>\n",
       "      <td>2</td>\n",
       "      <td>0</td>\n",
       "      <td>2</td>\n",
       "      <td>1</td>\n",
       "    </tr>\n",
       "    <tr>\n",
       "      <th>4</th>\n",
       "      <td>57</td>\n",
       "      <td>0</td>\n",
       "      <td>0</td>\n",
       "      <td>120</td>\n",
       "      <td>354</td>\n",
       "      <td>0</td>\n",
       "      <td>1</td>\n",
       "      <td>163</td>\n",
       "      <td>1</td>\n",
       "      <td>0.6</td>\n",
       "      <td>2</td>\n",
       "      <td>0</td>\n",
       "      <td>2</td>\n",
       "      <td>1</td>\n",
       "    </tr>\n",
       "  </tbody>\n",
       "</table>\n",
       "</div>"
      ],
      "text/plain": [
       "   age  sex  cp  trtbps  chol  fbs  restecg  thalachh  exng  oldpeak  slp  \\\n",
       "0   63    1   3     145   233    1        0       150     0      2.3    0   \n",
       "1   37    1   2     130   250    0        1       187     0      3.5    0   \n",
       "2   41    0   1     130   204    0        0       172     0      1.4    2   \n",
       "3   56    1   1     120   236    0        1       178     0      0.8    2   \n",
       "4   57    0   0     120   354    0        1       163     1      0.6    2   \n",
       "\n",
       "   caa  thall  output  \n",
       "0    0      1       1  \n",
       "1    0      2       1  \n",
       "2    0      2       1  \n",
       "3    0      2       1  \n",
       "4    0      2       1  "
      ]
     },
     "execution_count": 4,
     "metadata": {},
     "output_type": "execute_result"
    }
   ],
   "source": [
    "df.head()"
   ]
  },
  {
   "cell_type": "code",
   "execution_count": 5,
   "id": "c7e69dc3",
   "metadata": {},
   "outputs": [
    {
     "data": {
      "text/html": [
       "<div>\n",
       "<style scoped>\n",
       "    .dataframe tbody tr th:only-of-type {\n",
       "        vertical-align: middle;\n",
       "    }\n",
       "\n",
       "    .dataframe tbody tr th {\n",
       "        vertical-align: top;\n",
       "    }\n",
       "\n",
       "    .dataframe thead th {\n",
       "        text-align: right;\n",
       "    }\n",
       "</style>\n",
       "<table border=\"1\" class=\"dataframe\">\n",
       "  <thead>\n",
       "    <tr style=\"text-align: right;\">\n",
       "      <th></th>\n",
       "      <th>age</th>\n",
       "      <th>sex</th>\n",
       "      <th>cp</th>\n",
       "      <th>trtbps</th>\n",
       "      <th>chol</th>\n",
       "      <th>fbs</th>\n",
       "      <th>restecg</th>\n",
       "      <th>thalachh</th>\n",
       "      <th>exng</th>\n",
       "      <th>oldpeak</th>\n",
       "      <th>slp</th>\n",
       "      <th>caa</th>\n",
       "      <th>thall</th>\n",
       "      <th>output</th>\n",
       "    </tr>\n",
       "  </thead>\n",
       "  <tbody>\n",
       "    <tr>\n",
       "      <th>298</th>\n",
       "      <td>57</td>\n",
       "      <td>0</td>\n",
       "      <td>0</td>\n",
       "      <td>140</td>\n",
       "      <td>241</td>\n",
       "      <td>0</td>\n",
       "      <td>1</td>\n",
       "      <td>123</td>\n",
       "      <td>1</td>\n",
       "      <td>0.2</td>\n",
       "      <td>1</td>\n",
       "      <td>0</td>\n",
       "      <td>3</td>\n",
       "      <td>0</td>\n",
       "    </tr>\n",
       "    <tr>\n",
       "      <th>299</th>\n",
       "      <td>45</td>\n",
       "      <td>1</td>\n",
       "      <td>3</td>\n",
       "      <td>110</td>\n",
       "      <td>264</td>\n",
       "      <td>0</td>\n",
       "      <td>1</td>\n",
       "      <td>132</td>\n",
       "      <td>0</td>\n",
       "      <td>1.2</td>\n",
       "      <td>1</td>\n",
       "      <td>0</td>\n",
       "      <td>3</td>\n",
       "      <td>0</td>\n",
       "    </tr>\n",
       "    <tr>\n",
       "      <th>300</th>\n",
       "      <td>68</td>\n",
       "      <td>1</td>\n",
       "      <td>0</td>\n",
       "      <td>144</td>\n",
       "      <td>193</td>\n",
       "      <td>1</td>\n",
       "      <td>1</td>\n",
       "      <td>141</td>\n",
       "      <td>0</td>\n",
       "      <td>3.4</td>\n",
       "      <td>1</td>\n",
       "      <td>2</td>\n",
       "      <td>3</td>\n",
       "      <td>0</td>\n",
       "    </tr>\n",
       "    <tr>\n",
       "      <th>301</th>\n",
       "      <td>57</td>\n",
       "      <td>1</td>\n",
       "      <td>0</td>\n",
       "      <td>130</td>\n",
       "      <td>131</td>\n",
       "      <td>0</td>\n",
       "      <td>1</td>\n",
       "      <td>115</td>\n",
       "      <td>1</td>\n",
       "      <td>1.2</td>\n",
       "      <td>1</td>\n",
       "      <td>1</td>\n",
       "      <td>3</td>\n",
       "      <td>0</td>\n",
       "    </tr>\n",
       "    <tr>\n",
       "      <th>302</th>\n",
       "      <td>57</td>\n",
       "      <td>0</td>\n",
       "      <td>1</td>\n",
       "      <td>130</td>\n",
       "      <td>236</td>\n",
       "      <td>0</td>\n",
       "      <td>0</td>\n",
       "      <td>174</td>\n",
       "      <td>0</td>\n",
       "      <td>0.0</td>\n",
       "      <td>1</td>\n",
       "      <td>1</td>\n",
       "      <td>2</td>\n",
       "      <td>0</td>\n",
       "    </tr>\n",
       "  </tbody>\n",
       "</table>\n",
       "</div>"
      ],
      "text/plain": [
       "     age  sex  cp  trtbps  chol  fbs  restecg  thalachh  exng  oldpeak  slp  \\\n",
       "298   57    0   0     140   241    0        1       123     1      0.2    1   \n",
       "299   45    1   3     110   264    0        1       132     0      1.2    1   \n",
       "300   68    1   0     144   193    1        1       141     0      3.4    1   \n",
       "301   57    1   0     130   131    0        1       115     1      1.2    1   \n",
       "302   57    0   1     130   236    0        0       174     0      0.0    1   \n",
       "\n",
       "     caa  thall  output  \n",
       "298    0      3       0  \n",
       "299    0      3       0  \n",
       "300    2      3       0  \n",
       "301    1      3       0  \n",
       "302    1      2       0  "
      ]
     },
     "execution_count": 5,
     "metadata": {},
     "output_type": "execute_result"
    }
   ],
   "source": [
    "df.tail()"
   ]
  },
  {
   "cell_type": "code",
   "execution_count": 6,
   "id": "b938d35a",
   "metadata": {},
   "outputs": [
    {
     "name": "stdout",
     "output_type": "stream",
     "text": [
      "<class 'pandas.core.frame.DataFrame'>\n",
      "RangeIndex: 303 entries, 0 to 302\n",
      "Data columns (total 14 columns):\n",
      " #   Column    Non-Null Count  Dtype  \n",
      "---  ------    --------------  -----  \n",
      " 0   age       303 non-null    int64  \n",
      " 1   sex       303 non-null    int64  \n",
      " 2   cp        303 non-null    int64  \n",
      " 3   trtbps    303 non-null    int64  \n",
      " 4   chol      303 non-null    int64  \n",
      " 5   fbs       303 non-null    int64  \n",
      " 6   restecg   303 non-null    int64  \n",
      " 7   thalachh  303 non-null    int64  \n",
      " 8   exng      303 non-null    int64  \n",
      " 9   oldpeak   303 non-null    float64\n",
      " 10  slp       303 non-null    int64  \n",
      " 11  caa       303 non-null    int64  \n",
      " 12  thall     303 non-null    int64  \n",
      " 13  output    303 non-null    int64  \n",
      "dtypes: float64(1), int64(13)\n",
      "memory usage: 33.3 KB\n"
     ]
    }
   ],
   "source": [
    "df.info()"
   ]
  },
  {
   "cell_type": "markdown",
   "id": "0d8a9db2",
   "metadata": {},
   "source": [
    "### Observation: \n",
    "- To get the number of observation,missing values,datatype and nan values\n",
    "- All Data in numerical types"
   ]
  },
  {
   "cell_type": "code",
   "execution_count": 7,
   "id": "c57a94c9",
   "metadata": {},
   "outputs": [
    {
     "data": {
      "text/html": [
       "<div>\n",
       "<style scoped>\n",
       "    .dataframe tbody tr th:only-of-type {\n",
       "        vertical-align: middle;\n",
       "    }\n",
       "\n",
       "    .dataframe tbody tr th {\n",
       "        vertical-align: top;\n",
       "    }\n",
       "\n",
       "    .dataframe thead th {\n",
       "        text-align: right;\n",
       "    }\n",
       "</style>\n",
       "<table border=\"1\" class=\"dataframe\">\n",
       "  <thead>\n",
       "    <tr style=\"text-align: right;\">\n",
       "      <th></th>\n",
       "      <th>age</th>\n",
       "      <th>sex</th>\n",
       "      <th>cp</th>\n",
       "      <th>trtbps</th>\n",
       "      <th>chol</th>\n",
       "      <th>fbs</th>\n",
       "      <th>restecg</th>\n",
       "      <th>thalachh</th>\n",
       "      <th>exng</th>\n",
       "      <th>oldpeak</th>\n",
       "      <th>slp</th>\n",
       "      <th>caa</th>\n",
       "      <th>thall</th>\n",
       "      <th>output</th>\n",
       "    </tr>\n",
       "  </thead>\n",
       "  <tbody>\n",
       "    <tr>\n",
       "      <th>count</th>\n",
       "      <td>303.000000</td>\n",
       "      <td>303.000000</td>\n",
       "      <td>303.000000</td>\n",
       "      <td>303.000000</td>\n",
       "      <td>303.000000</td>\n",
       "      <td>303.000000</td>\n",
       "      <td>303.000000</td>\n",
       "      <td>303.000000</td>\n",
       "      <td>303.000000</td>\n",
       "      <td>303.000000</td>\n",
       "      <td>303.000000</td>\n",
       "      <td>303.000000</td>\n",
       "      <td>303.000000</td>\n",
       "      <td>303.000000</td>\n",
       "    </tr>\n",
       "    <tr>\n",
       "      <th>mean</th>\n",
       "      <td>54.366337</td>\n",
       "      <td>0.683168</td>\n",
       "      <td>0.966997</td>\n",
       "      <td>131.623762</td>\n",
       "      <td>246.264026</td>\n",
       "      <td>0.148515</td>\n",
       "      <td>0.528053</td>\n",
       "      <td>149.646865</td>\n",
       "      <td>0.326733</td>\n",
       "      <td>1.039604</td>\n",
       "      <td>1.399340</td>\n",
       "      <td>0.729373</td>\n",
       "      <td>2.313531</td>\n",
       "      <td>0.544554</td>\n",
       "    </tr>\n",
       "    <tr>\n",
       "      <th>std</th>\n",
       "      <td>9.082101</td>\n",
       "      <td>0.466011</td>\n",
       "      <td>1.032052</td>\n",
       "      <td>17.538143</td>\n",
       "      <td>51.830751</td>\n",
       "      <td>0.356198</td>\n",
       "      <td>0.525860</td>\n",
       "      <td>22.905161</td>\n",
       "      <td>0.469794</td>\n",
       "      <td>1.161075</td>\n",
       "      <td>0.616226</td>\n",
       "      <td>1.022606</td>\n",
       "      <td>0.612277</td>\n",
       "      <td>0.498835</td>\n",
       "    </tr>\n",
       "    <tr>\n",
       "      <th>min</th>\n",
       "      <td>29.000000</td>\n",
       "      <td>0.000000</td>\n",
       "      <td>0.000000</td>\n",
       "      <td>94.000000</td>\n",
       "      <td>126.000000</td>\n",
       "      <td>0.000000</td>\n",
       "      <td>0.000000</td>\n",
       "      <td>71.000000</td>\n",
       "      <td>0.000000</td>\n",
       "      <td>0.000000</td>\n",
       "      <td>0.000000</td>\n",
       "      <td>0.000000</td>\n",
       "      <td>0.000000</td>\n",
       "      <td>0.000000</td>\n",
       "    </tr>\n",
       "    <tr>\n",
       "      <th>25%</th>\n",
       "      <td>47.500000</td>\n",
       "      <td>0.000000</td>\n",
       "      <td>0.000000</td>\n",
       "      <td>120.000000</td>\n",
       "      <td>211.000000</td>\n",
       "      <td>0.000000</td>\n",
       "      <td>0.000000</td>\n",
       "      <td>133.500000</td>\n",
       "      <td>0.000000</td>\n",
       "      <td>0.000000</td>\n",
       "      <td>1.000000</td>\n",
       "      <td>0.000000</td>\n",
       "      <td>2.000000</td>\n",
       "      <td>0.000000</td>\n",
       "    </tr>\n",
       "    <tr>\n",
       "      <th>50%</th>\n",
       "      <td>55.000000</td>\n",
       "      <td>1.000000</td>\n",
       "      <td>1.000000</td>\n",
       "      <td>130.000000</td>\n",
       "      <td>240.000000</td>\n",
       "      <td>0.000000</td>\n",
       "      <td>1.000000</td>\n",
       "      <td>153.000000</td>\n",
       "      <td>0.000000</td>\n",
       "      <td>0.800000</td>\n",
       "      <td>1.000000</td>\n",
       "      <td>0.000000</td>\n",
       "      <td>2.000000</td>\n",
       "      <td>1.000000</td>\n",
       "    </tr>\n",
       "    <tr>\n",
       "      <th>75%</th>\n",
       "      <td>61.000000</td>\n",
       "      <td>1.000000</td>\n",
       "      <td>2.000000</td>\n",
       "      <td>140.000000</td>\n",
       "      <td>274.500000</td>\n",
       "      <td>0.000000</td>\n",
       "      <td>1.000000</td>\n",
       "      <td>166.000000</td>\n",
       "      <td>1.000000</td>\n",
       "      <td>1.600000</td>\n",
       "      <td>2.000000</td>\n",
       "      <td>1.000000</td>\n",
       "      <td>3.000000</td>\n",
       "      <td>1.000000</td>\n",
       "    </tr>\n",
       "    <tr>\n",
       "      <th>max</th>\n",
       "      <td>77.000000</td>\n",
       "      <td>1.000000</td>\n",
       "      <td>3.000000</td>\n",
       "      <td>200.000000</td>\n",
       "      <td>564.000000</td>\n",
       "      <td>1.000000</td>\n",
       "      <td>2.000000</td>\n",
       "      <td>202.000000</td>\n",
       "      <td>1.000000</td>\n",
       "      <td>6.200000</td>\n",
       "      <td>2.000000</td>\n",
       "      <td>4.000000</td>\n",
       "      <td>3.000000</td>\n",
       "      <td>1.000000</td>\n",
       "    </tr>\n",
       "  </tbody>\n",
       "</table>\n",
       "</div>"
      ],
      "text/plain": [
       "              age         sex          cp      trtbps        chol         fbs  \\\n",
       "count  303.000000  303.000000  303.000000  303.000000  303.000000  303.000000   \n",
       "mean    54.366337    0.683168    0.966997  131.623762  246.264026    0.148515   \n",
       "std      9.082101    0.466011    1.032052   17.538143   51.830751    0.356198   \n",
       "min     29.000000    0.000000    0.000000   94.000000  126.000000    0.000000   \n",
       "25%     47.500000    0.000000    0.000000  120.000000  211.000000    0.000000   \n",
       "50%     55.000000    1.000000    1.000000  130.000000  240.000000    0.000000   \n",
       "75%     61.000000    1.000000    2.000000  140.000000  274.500000    0.000000   \n",
       "max     77.000000    1.000000    3.000000  200.000000  564.000000    1.000000   \n",
       "\n",
       "          restecg    thalachh        exng     oldpeak         slp         caa  \\\n",
       "count  303.000000  303.000000  303.000000  303.000000  303.000000  303.000000   \n",
       "mean     0.528053  149.646865    0.326733    1.039604    1.399340    0.729373   \n",
       "std      0.525860   22.905161    0.469794    1.161075    0.616226    1.022606   \n",
       "min      0.000000   71.000000    0.000000    0.000000    0.000000    0.000000   \n",
       "25%      0.000000  133.500000    0.000000    0.000000    1.000000    0.000000   \n",
       "50%      1.000000  153.000000    0.000000    0.800000    1.000000    0.000000   \n",
       "75%      1.000000  166.000000    1.000000    1.600000    2.000000    1.000000   \n",
       "max      2.000000  202.000000    1.000000    6.200000    2.000000    4.000000   \n",
       "\n",
       "            thall      output  \n",
       "count  303.000000  303.000000  \n",
       "mean     2.313531    0.544554  \n",
       "std      0.612277    0.498835  \n",
       "min      0.000000    0.000000  \n",
       "25%      2.000000    0.000000  \n",
       "50%      2.000000    1.000000  \n",
       "75%      3.000000    1.000000  \n",
       "max      3.000000    1.000000  "
      ]
     },
     "execution_count": 7,
     "metadata": {},
     "output_type": "execute_result"
    }
   ],
   "source": [
    "df.describe()"
   ]
  },
  {
   "cell_type": "code",
   "execution_count": 8,
   "id": "17c4fa18",
   "metadata": {},
   "outputs": [
    {
     "data": {
      "text/plain": [
       "(303, 14)"
      ]
     },
     "execution_count": 8,
     "metadata": {},
     "output_type": "execute_result"
    }
   ],
   "source": [
    "df.shape"
   ]
  },
  {
   "cell_type": "markdown",
   "id": "c62f03cb",
   "metadata": {},
   "source": [
    "# 4.Cleaning the dataset  "
   ]
  },
  {
   "cell_type": "code",
   "execution_count": 9,
   "id": "07f67ef9",
   "metadata": {},
   "outputs": [
    {
     "data": {
      "text/plain": [
       "age         0\n",
       "sex         0\n",
       "cp          0\n",
       "trtbps      0\n",
       "chol        0\n",
       "fbs         0\n",
       "restecg     0\n",
       "thalachh    0\n",
       "exng        0\n",
       "oldpeak     0\n",
       "slp         0\n",
       "caa         0\n",
       "thall       0\n",
       "output      0\n",
       "dtype: int64"
      ]
     },
     "execution_count": 9,
     "metadata": {},
     "output_type": "execute_result"
    }
   ],
   "source": [
    "df.isnull().sum()"
   ]
  },
  {
   "cell_type": "markdown",
   "id": "5648ecf2",
   "metadata": {},
   "source": [
    "### Observation : No null values"
   ]
  },
  {
   "cell_type": "markdown",
   "id": "4f491dff",
   "metadata": {},
   "source": [
    "# 5.Explotary Data Analysis "
   ]
  },
  {
   "cell_type": "code",
   "execution_count": 7,
   "id": "6e8b6d2c",
   "metadata": {},
   "outputs": [
    {
     "data": {
      "text/html": [
       "<div>\n",
       "<style scoped>\n",
       "    .dataframe tbody tr th:only-of-type {\n",
       "        vertical-align: middle;\n",
       "    }\n",
       "\n",
       "    .dataframe tbody tr th {\n",
       "        vertical-align: top;\n",
       "    }\n",
       "\n",
       "    .dataframe thead th {\n",
       "        text-align: right;\n",
       "    }\n",
       "</style>\n",
       "<table border=\"1\" class=\"dataframe\">\n",
       "  <thead>\n",
       "    <tr style=\"text-align: right;\">\n",
       "      <th></th>\n",
       "      <th>unique count</th>\n",
       "    </tr>\n",
       "  </thead>\n",
       "  <tbody>\n",
       "    <tr>\n",
       "      <th>age</th>\n",
       "      <td>41</td>\n",
       "    </tr>\n",
       "    <tr>\n",
       "      <th>sex</th>\n",
       "      <td>2</td>\n",
       "    </tr>\n",
       "    <tr>\n",
       "      <th>cp</th>\n",
       "      <td>4</td>\n",
       "    </tr>\n",
       "    <tr>\n",
       "      <th>trtbps</th>\n",
       "      <td>49</td>\n",
       "    </tr>\n",
       "    <tr>\n",
       "      <th>chol</th>\n",
       "      <td>152</td>\n",
       "    </tr>\n",
       "    <tr>\n",
       "      <th>fbs</th>\n",
       "      <td>2</td>\n",
       "    </tr>\n",
       "    <tr>\n",
       "      <th>restecg</th>\n",
       "      <td>3</td>\n",
       "    </tr>\n",
       "    <tr>\n",
       "      <th>thalachh</th>\n",
       "      <td>91</td>\n",
       "    </tr>\n",
       "    <tr>\n",
       "      <th>exng</th>\n",
       "      <td>2</td>\n",
       "    </tr>\n",
       "    <tr>\n",
       "      <th>oldpeak</th>\n",
       "      <td>40</td>\n",
       "    </tr>\n",
       "    <tr>\n",
       "      <th>slp</th>\n",
       "      <td>3</td>\n",
       "    </tr>\n",
       "    <tr>\n",
       "      <th>caa</th>\n",
       "      <td>5</td>\n",
       "    </tr>\n",
       "    <tr>\n",
       "      <th>thall</th>\n",
       "      <td>4</td>\n",
       "    </tr>\n",
       "    <tr>\n",
       "      <th>output</th>\n",
       "      <td>2</td>\n",
       "    </tr>\n",
       "  </tbody>\n",
       "</table>\n",
       "</div>"
      ],
      "text/plain": [
       "          unique count\n",
       "age                 41\n",
       "sex                  2\n",
       "cp                   4\n",
       "trtbps              49\n",
       "chol               152\n",
       "fbs                  2\n",
       "restecg              3\n",
       "thalachh            91\n",
       "exng                 2\n",
       "oldpeak             40\n",
       "slp                  3\n",
       "caa                  5\n",
       "thall                4\n",
       "output               2"
      ]
     },
     "execution_count": 7,
     "metadata": {},
     "output_type": "execute_result"
    }
   ],
   "source": [
    "dict = {}\n",
    "for i in list(df.columns):\n",
    "    dict[i] = df[i].value_counts().shape[0]\n",
    "pd.DataFrame(dict,index=[\"unique count\"]).transpose()"
   ]
  },
  {
   "cell_type": "markdown",
   "id": "e710bd6e",
   "metadata": {},
   "source": [
    "### Observation:\n",
    "- Number of unique values in each column"
   ]
  },
  {
   "cell_type": "code",
   "execution_count": 11,
   "id": "013edd15",
   "metadata": {},
   "outputs": [
    {
     "name": "stdout",
     "output_type": "stream",
     "text": [
      "Youngest age:  29\n",
      "Oldest age :  77\n"
     ]
    }
   ],
   "source": [
    "print('Youngest age: ',min(df.age))\n",
    "print('Oldest age : ',max(df.age))"
   ]
  },
  {
   "cell_type": "markdown",
   "id": "411a312d",
   "metadata": {},
   "source": [
    "### Observation:\n",
    "- To Know Youngest age and oldest in age"
   ]
  },
  {
   "cell_type": "code",
   "execution_count": 12,
   "id": "9f998850",
   "metadata": {},
   "outputs": [
    {
     "data": {
      "text/plain": [
       "0    143\n",
       "2     87\n",
       "1     50\n",
       "3     23\n",
       "Name: cp, dtype: int64"
      ]
     },
     "execution_count": 12,
     "metadata": {},
     "output_type": "execute_result"
    }
   ],
   "source": [
    "df['cp'].value_counts()"
   ]
  },
  {
   "cell_type": "markdown",
   "id": "3d3727d1",
   "metadata": {},
   "source": [
    "### Observation:\n",
    "- Value 0: typical angina\n",
    "- Value 1: atypical angina\n",
    "- Value 2: non-anginal pain\n",
    "- Value 3: asymptomatic"
   ]
  },
  {
   "cell_type": "code",
   "execution_count": 13,
   "id": "d4660146",
   "metadata": {},
   "outputs": [
    {
     "name": "stdout",
     "output_type": "stream",
     "text": [
      "   sex    output\n",
      "0    0  0.750000\n",
      "1    1  0.449275\n"
     ]
    }
   ],
   "source": [
    "s=df[[\"sex\", \"output\"]].groupby(['sex'], as_index=False).mean()\n",
    "print (s)"
   ]
  },
  {
   "cell_type": "markdown",
   "id": "a5801998",
   "metadata": {},
   "source": [
    "### Observation:\n",
    "- 0:Female   1:Male\n",
    "- female has more chance than male to heart attack , about 75% female are at risk."
   ]
  },
  {
   "cell_type": "markdown",
   "id": "eee0ba82",
   "metadata": {},
   "source": [
    "# 6.Data Visualization "
   ]
  },
  {
   "cell_type": "code",
   "execution_count": 14,
   "id": "dd9f9ec9",
   "metadata": {},
   "outputs": [
    {
     "data": {
      "image/png": "[encoded data removed]",
      "text/plain": [
       "<Figure size 576x432 with 1 Axes>"
      ]
     },
     "metadata": {
      "needs_background": "light"
     },
     "output_type": "display_data"
    }
   ],
   "source": [
    "counts = df[\"output\"].value_counts().sort_values()\n",
    "diag_cols = [\"0(low_risk)\", \"1(high_risk)\"]\n",
    "diag_counts = [counts[0], counts[1]]\n",
    "plt.figure(figsize = (8, 6))\n",
    "sns.barplot(x = diag_cols, y = diag_counts)\n",
    "plt.show()"
   ]
  },
  {
   "cell_type": "markdown",
   "id": "2ede0b5a",
   "metadata": {},
   "source": [
    "### Observation:\n",
    "\n",
    "- 165 people are in risk zone that means have a chance of heart attack\n",
    "\n",
    "- 138 people are in low risk zone that means have a less chance of heart attack\n",
    "\n",
    "- total people 303 , among them 165 people have a more chance in heart attack another 138 people have less chance."
   ]
  },
  {
   "cell_type": "code",
   "execution_count": 12,
   "id": "fcac4a2b",
   "metadata": {},
   "outputs": [
    {
     "data": {
      "text/plain": [
       "<AxesSubplot:title={'center':'Male & Female have heart attack'}, ylabel='output'>"
      ]
     },
     "execution_count": 12,
     "metadata": {},
     "output_type": "execute_result"
    },
    {
     "data": {
      "image/png": "[encoded data removed]",
      "text/plain": [
       "<Figure size 720x720 with 1 Axes>"
      ]
     },
     "metadata": {},
     "output_type": "display_data"
    }
   ],
   "source": [
    "#using groupby make Percentage of patients\n",
    "df.groupby('sex')[\"output\"].count().plot(kind=\"pie\",autopct='%1.1f%%',shadow=True,figsize=(10,10),title=\"Male & Female have heart attack\")"
   ]
  },
  {
   "cell_type": "markdown",
   "id": "7db867c8",
   "metadata": {},
   "source": [
    "### Observation:\n",
    " Gender of the patients\n",
    " \n",
    "- 1 = 68.3% are male\n",
    "\n",
    "- 0 = 31.7% are female"
   ]
  },
  {
   "cell_type": "code",
   "execution_count": 16,
   "id": "a34d37c1",
   "metadata": {},
   "outputs": [
    {
     "data": {
      "image/png": "[encoded data removed]",
      "text/plain": [
       "<Figure size 402.375x360 with 1 Axes>"
      ]
     },
     "metadata": {
      "needs_background": "light"
     },
     "output_type": "display_data"
    }
   ],
   "source": [
    "sns.displot(x= df['chol'], hue = df['output'], palette= ['grey', 'red'])\n",
    "plt.title('Heart disease wrt cholesterol of patients')\n",
    "plt.show()"
   ]
  },
  {
   "cell_type": "markdown",
   "id": "69f86cd2",
   "metadata": {},
   "source": [
    "### Observation:\n",
    "- Patients have higher chanaces of getting heart attack, that have cholesterol in range of 190 - 300 mg/dl."
   ]
  },
  {
   "cell_type": "code",
   "execution_count": 11,
   "id": "75c36896",
   "metadata": {},
   "outputs": [
    {
     "data": {
      "image/png": "[encoded data removed]",
      "text/plain": [
       "<Figure size 360x360 with 1 Axes>"
      ]
     },
     "metadata": {},
     "output_type": "display_data"
    }
   ],
   "source": [
    "pie = df.groupby('cp')[\"output\"].count().plot(kind=\"pie\",autopct='%1.1f%%',figsize=(5,5),\n",
    "                title=\"Chest Pain type chest pain type\")\n",
    "plt.show()"
   ]
  },
  {
   "cell_type": "markdown",
   "id": "91bf05db",
   "metadata": {},
   "source": [
    "### Observation:\n",
    "cp : Chest Pain type chest pain type\n",
    "- 0 : asymptomatic 47.2%\n",
    "- 1 : typical angina 16.5%\n",
    "- 2 : atypical angina 28.7 %\n",
    "- 3 : non-anginal pain 7.6 %"
   ]
  },
  {
   "cell_type": "code",
   "execution_count": 13,
   "id": "71ff5e96",
   "metadata": {},
   "outputs": [
    {
     "data": {
      "text/plain": [
       "<AxesSubplot:title={'center':'Relationship between Age and have patients heart '}, xlabel='age'>"
      ]
     },
     "execution_count": 13,
     "metadata": {},
     "output_type": "execute_result"
    },
    {
     "data": {
      "image/png": "[encoded data removed]",
      "text/plain": [
       "<Figure size 1224x432 with 1 Axes>"
      ]
     },
     "metadata": {},
     "output_type": "display_data"
    }
   ],
   "source": [
    "df.groupby('age')[\"output\"].count().plot(kind=\"bar\",figsize=(17,6), title=\"Relationship between Age and have patients heart \")"
   ]
  },
  {
   "cell_type": "markdown",
   "id": "2cfd68bc",
   "metadata": {},
   "source": [
    "### Observation:\n",
    "- The vast majority of patients are between 50 and 60."
   ]
  },
  {
   "cell_type": "code",
   "execution_count": 18,
   "id": "6cc46ed0",
   "metadata": {},
   "outputs": [
    {
     "data": {
      "image/png": "[encoded data removed]",
      "text/plain": [
       "<Figure size 1440x1440 with 3 Axes>"
      ]
     },
     "metadata": {},
     "output_type": "display_data"
    }
   ],
   "source": [
    "fig=plt.figure(figsize=(20, 20))\n",
    "fig = plt.subplot(421)\n",
    "sns.boxplot(x = 'cp', y= 'chol', hue = 'output', data = df)\n",
    "plt.xlabel('Chest pain type')\n",
    "plt.ylabel('Cholesterol')\n",
    "plt.title('Chest pain and Cholesterol affecting HA')\n",
    "\n",
    "fig = plt.subplot(422)\n",
    "sns.boxplot(x= 'restecg', y = 'trtbps', hue = 'output', data = df)\n",
    "plt.xlabel('resting electrocardiographic results type')\n",
    "plt.ylabel('Resting bp')\n",
    "plt.title('Resting bp and rest_ecg affecting HA')\n",
    "\n",
    "fig = plt.subplot(423)\n",
    "sns.boxplot(x = 'cp', y= 'thalachh', hue = 'output', data = df)\n",
    "plt.xlabel('Chest pain type')\n",
    "plt.ylabel('Maximum heart rate acheived')\n",
    "plt.title('Chest pain and maximum heart rate affecting HA')\n",
    "plt.show()"
   ]
  },
  {
   "cell_type": "markdown",
   "id": "d01cc719",
   "metadata": {},
   "source": [
    "### Observation:\n",
    "Higher heart attack chances in people having:\n",
    "- 200 - 280 mg/ dl cholesterol with 0, 1, 2 type of chest pain mentioned. \n",
    "- Resting bp of 120 - 140 mg HH and resting electrocardiographic results type 0, 1.\n",
    "- Maximum heart rate around 140 - 180 and chest pain of type 3rd "
   ]
  },
  {
   "cell_type": "code",
   "execution_count": 19,
   "id": "9eaf779a",
   "metadata": {},
   "outputs": [
    {
     "data": {
      "image/png": "[encoded data removed]",
      "text/plain": [
       "<Figure size 864x720 with 2 Axes>"
      ]
     },
     "metadata": {},
     "output_type": "display_data"
    }
   ],
   "source": [
    "plt.figure(figsize=(12,10))\n",
    "sns.heatmap(df.corr(),annot=True)\n",
    "plt.show()"
   ]
  },
  {
   "cell_type": "markdown",
   "id": "13bee404",
   "metadata": {},
   "source": [
    "### Observation:\n",
    "- This correlation matrix show that heart attack depends on cp (Chest pain),thalachh(Maximum heart rate achieved),slp(slope)\n",
    "- Cp,thalach,slope shows good positive correlation with target\n",
    "- oldpeah,exang,ca,thal,sex,age show a good negative correlation with target\n",
    "- dbs,chol,trestbps,restecg has low correlation with our target"
   ]
  },
  {
   "cell_type": "markdown",
   "id": "b3a9c519",
   "metadata": {},
   "source": [
    "# 7.Machine Learning Algorithm   \n",
    "### Machine Learning algorithms are the programs that can learn the hidden patterns from the data, predict the output, and improve the performance from experiences on their own.\n"
   ]
  },
  {
   "cell_type": "markdown",
   "id": "7f186baf",
   "metadata": {},
   "source": [
    "## Following algorithm Use:\n",
    "   1.SUPPORT VECTOR MACHINE\n",
    "   \n",
    "   2.LOGISTIC REGRESSION\n",
    "   \n",
    "   3.GAUSSIAN NAIVE BAYES\n",
    "   \n",
    "   4.NAIVE BAYES CLASSIFIER FOR MULTIVARIATE BERNOULLI MODELS \n",
    "   \n",
    "   5.RANDOM FOREST CLASSIFIER \n",
    "   \n",
    "   6.KNEIGHBORS CLASSIFIER    \n",
    "   \n",
    "   7.GRADIENT BOOSTING FOR CLASSIFICATION    "
   ]
  },
  {
   "cell_type": "markdown",
   "id": "da54b4db",
   "metadata": {},
   "source": [
    "## Dependent and Independent Variable\n"
   ]
  },
  {
   "cell_type": "code",
   "execution_count": 20,
   "id": "8ace887b",
   "metadata": {},
   "outputs": [
    {
     "name": "stdout",
     "output_type": "stream",
     "text": [
      "Shape of X: (303, 13) \n",
      " Shape of Y: (303,)\n"
     ]
    }
   ],
   "source": [
    "x=df.drop(['output'],axis=1)\n",
    "y=df.output\n",
    "print(\"Shape of X:\",x.shape,\"\\n Shape of Y:\",y.shape)"
   ]
  },
  {
   "cell_type": "markdown",
   "id": "f496a89c",
   "metadata": {},
   "source": [
    " ## Spliting Data (Train and Test Part)  \n",
    "- Train Dataset: Used to fit the machine learning model.\n",
    "- Test Dataset: Used to evaluate the fit machine learning model."
   ]
  },
  {
   "cell_type": "code",
   "execution_count": 21,
   "id": "07e24dca",
   "metadata": {},
   "outputs": [],
   "source": [
    "from sklearn.model_selection import train_test_split\n",
    "x_train, x_test, y_train, y_test = train_test_split(x,y, test_size = 0.15, random_state = 53)"
   ]
  },
  {
   "cell_type": "code",
   "execution_count": 22,
   "id": "54147206",
   "metadata": {},
   "outputs": [
    {
     "name": "stdout",
     "output_type": "stream",
     "text": [
      "Shape of x train: (257, 13) \n",
      "Shape of y train: (257,)\n",
      "Shape of x test: (46, 13) \n",
      "Shape of y test: (46,)\n"
     ]
    }
   ],
   "source": [
    "print(\"Shape of x train:\",x_train.shape,\"\\nShape of y train:\", y_train.shape)\n",
    "print(\"Shape of x test:\",x_test.shape,\"\\nShape of y test:\", y_test.shape)"
   ]
  },
  {
   "cell_type": "markdown",
   "id": "8b0b7602",
   "metadata": {},
   "source": [
    "\n",
    "## Importing Metrics Libraries of Sklearn  "
   ]
  },
  {
   "cell_type": "code",
   "execution_count": 23,
   "id": "94d5716c",
   "metadata": {},
   "outputs": [],
   "source": [
    "from sklearn.metrics import accuracy_score, roc_auc_score, f1_score"
   ]
  },
  {
   "cell_type": "markdown",
   "id": "b008d3f2",
   "metadata": {},
   "source": [
    "## StandardScaler\n",
    "- Standardize features by removing the mean and scaling to unit variance.\n",
    "- StandardScaler() function to standardize the data values into a standard format."
   ]
  },
  {
   "cell_type": "code",
   "execution_count": 24,
   "id": "e1b0e165",
   "metadata": {},
   "outputs": [],
   "source": [
    "from sklearn.preprocessing import StandardScaler\n",
    "scaler = StandardScaler()\n",
    "x_train = scaler.fit_transform(x_train)\n",
    "x_test = scaler.transform(x_test)"
   ]
  },
  {
   "cell_type": "markdown",
   "id": "25360ffd",
   "metadata": {},
   "source": [
    "### NOTE: \n",
    "- We are creating a new dataset because we will examine many models and there will be many metric scoring to evaluate them collectively."
   ]
  },
  {
   "cell_type": "code",
   "execution_count": 25,
   "id": "297a575e",
   "metadata": {},
   "outputs": [],
   "source": [
    "acc_df = pd.DataFrame(columns=[\"Name\", \"Accuracy_score\",\"F1_score\"])"
   ]
  },
  {
   "cell_type": "markdown",
   "id": "07bfa0a2",
   "metadata": {},
   "source": [
    "## 7.1.Support Vector Machine \n",
    "- A support vector machine or SVM is a supervised learning algorithm that can also be used for classification and regression problems. However, it is primarily used for classification problems. The goal of SVM is to create a hyperplane or decision boundary that can segregate datasets into different classes.\n",
    "- Some real-life applications of SVM are face detection, image classification, Drug discovery, etc. Consider the below diagram:"
   ]
  },
  {
   "cell_type": "code",
   "execution_count": 26,
   "id": "3c8f7a49",
   "metadata": {},
   "outputs": [
    {
     "name": "stdout",
     "output_type": "stream",
     "text": [
      "The test accuracy score is  86.95652173913044\n",
      "The test F1 score is 86.36363636363636\n"
     ]
    }
   ],
   "source": [
    "from sklearn.svm import SVC\n",
    "\n",
    "model_svc = SVC()\n",
    "model_svc.fit(x_train,y_train)\n",
    "y_pred= model_svc.predict(x_test)\n",
    "\n",
    "acc_svc = accuracy_score(y_test, y_pred)*100\n",
    "f1_svc = f1_score(y_test, y_pred)*100\n",
    "\n",
    "print(\"The test accuracy score is \", acc_svc)\n",
    "print(\"The test F1 score is\", f1_svc)\n"
   ]
  },
  {
   "cell_type": "code",
   "execution_count": 27,
   "id": "5e5650bf",
   "metadata": {},
   "outputs": [
    {
     "name": "stdout",
     "output_type": "stream",
     "text": [
      "Confusion matrix: \n",
      " [[21  3]\n",
      " [ 3 19]]\n",
      "Classification Report: \n",
      "               precision    recall  f1-score   support\n",
      "\n",
      "           0       0.88      0.88      0.88        24\n",
      "           1       0.86      0.86      0.86        22\n",
      "\n",
      "    accuracy                           0.87        46\n",
      "   macro avg       0.87      0.87      0.87        46\n",
      "weighted avg       0.87      0.87      0.87        46\n",
      "\n"
     ]
    }
   ],
   "source": [
    "#Confusion matrix & Classification report\n",
    "from sklearn.metrics import confusion_matrix,classification_report\n",
    "confusion_mat = confusion_matrix(y_test,y_pred)\n",
    "print(\"Confusion matrix: \\n\",confusion_mat)\n",
    "print(\"Classification Report: \\n\",classification_report(y_test,y_pred))"
   ]
  },
  {
   "cell_type": "markdown",
   "id": "97245cf3",
   "metadata": {},
   "source": [
    "## 7.2.Logistic Regression\n",
    "- Logistic regression is the supervised learning algorithm, which is used to predict the categorical variables or discrete values. It can be used for the classification problems in machine learning, and the output of the logistic regression algorithm can be either Yes or NO, 0 or 1, Red or Blue, etc."
   ]
  },
  {
   "cell_type": "code",
   "execution_count": 28,
   "id": "a7bd369e",
   "metadata": {},
   "outputs": [
    {
     "name": "stdout",
     "output_type": "stream",
     "text": [
      "The test accuracy score is  86.95652173913044\n",
      "The test F1 score is 86.95652173913044\n"
     ]
    }
   ],
   "source": [
    "from sklearn.linear_model import LogisticRegression\n",
    "\n",
    "model_lr = LogisticRegression()\n",
    "model_lr.fit(x_train, y_train)\n",
    "y_pred = model_lr.predict(x_test)\n",
    "\n",
    "acc_lr = accuracy_score(y_test, y_pred)*100\n",
    "f1_lr = f1_score(y_test, y_pred)*100\n",
    "\n",
    "print(\"The test accuracy score is \", acc_lr)\n",
    "print(\"The test F1 score is\", f1_lr)\n"
   ]
  },
  {
   "cell_type": "code",
   "execution_count": 29,
   "id": "e848fd20",
   "metadata": {},
   "outputs": [
    {
     "name": "stdout",
     "output_type": "stream",
     "text": [
      "Confusion matrix: \n",
      " [[20  4]\n",
      " [ 2 20]]\n",
      "Classification Report: \n",
      "               precision    recall  f1-score   support\n",
      "\n",
      "           0       0.91      0.83      0.87        24\n",
      "           1       0.83      0.91      0.87        22\n",
      "\n",
      "    accuracy                           0.87        46\n",
      "   macro avg       0.87      0.87      0.87        46\n",
      "weighted avg       0.87      0.87      0.87        46\n",
      "\n"
     ]
    }
   ],
   "source": [
    "#Confusion matrix & Classification report\n",
    "from sklearn.metrics import confusion_matrix,classification_report\n",
    "confusion_mat = confusion_matrix(y_test,y_pred)\n",
    "print(\"Confusion matrix: \\n\",confusion_mat)\n",
    "print(\"Classification Report: \\n\",classification_report(y_test,y_pred))"
   ]
  },
  {
   "cell_type": "markdown",
   "id": "620d2f4f",
   "metadata": {},
   "source": [
    "## 7.3.Gaussian Naive Bayes    "
   ]
  },
  {
   "cell_type": "markdown",
   "id": "29ebcad4",
   "metadata": {},
   "source": [
    "- Gaussian Naive Bayes supports continuous valued features and models each as conforming to a Gaussian (normal) distribution. An approach to create a simple model is to assume that the data is described by a Gaussian distribution with no co-variance (independent dimensions) between dimensions. This model can be fit by simply finding the mean and standard deviation of the points within each label."
   ]
  },
  {
   "cell_type": "code",
   "execution_count": 30,
   "id": "12162d88",
   "metadata": {},
   "outputs": [
    {
     "name": "stdout",
     "output_type": "stream",
     "text": [
      "The test accuracy score is  86.95652173913044\n",
      "The test F1 score is 86.36363636363636\n"
     ]
    }
   ],
   "source": [
    "from sklearn.naive_bayes import GaussianNB\n",
    "\n",
    "model_gnb = GaussianNB().fit(x_train, y_train)\n",
    "y_pred = model_gnb.predict(x_test)\n",
    "\n",
    "acc_gnb = accuracy_score(y_test, y_pred)*100\n",
    "f1_gnb = f1_score(y_test, y_pred)*100\n",
    "\n",
    "print(\"The test accuracy score is \", acc_gnb)\n",
    "print(\"The test F1 score is\", f1_gnb)\n"
   ]
  },
  {
   "cell_type": "code",
   "execution_count": 31,
   "id": "5e9335bf",
   "metadata": {},
   "outputs": [
    {
     "name": "stdout",
     "output_type": "stream",
     "text": [
      "Confusion matrix: \n",
      " [[21  3]\n",
      " [ 3 19]]\n",
      "Classification Report: \n",
      "               precision    recall  f1-score   support\n",
      "\n",
      "           0       0.88      0.88      0.88        24\n",
      "           1       0.86      0.86      0.86        22\n",
      "\n",
      "    accuracy                           0.87        46\n",
      "   macro avg       0.87      0.87      0.87        46\n",
      "weighted avg       0.87      0.87      0.87        46\n",
      "\n"
     ]
    }
   ],
   "source": [
    "#Confusion matrix & Classification report\n",
    "from sklearn.metrics import confusion_matrix,classification_report\n",
    "confusion_mat = confusion_matrix(y_test,y_pred)\n",
    "print(\"Confusion matrix: \\n\",confusion_mat)\n",
    "print(\"Classification Report: \\n\",classification_report(y_test,y_pred))"
   ]
  },
  {
   "cell_type": "markdown",
   "id": "7f4137e1",
   "metadata": {},
   "source": [
    "## 7.4 Naive Bayes Classifier for Multivariate Bernoulli Model  \n",
    "\n",
    "- Like MultinomialNB, this classifier is suitable for discrete data. The difference is that while MultinomialNB works with occurrence counts, BernoulliNB is designed for binary/boolean features."
   ]
  },
  {
   "cell_type": "code",
   "execution_count": 32,
   "id": "d09128f9",
   "metadata": {},
   "outputs": [
    {
     "name": "stdout",
     "output_type": "stream",
     "text": [
      "The test accuracy score is  95.65217391304348\n",
      "The test F1 score is 95.45454545454545\n"
     ]
    }
   ],
   "source": [
    "from sklearn.naive_bayes import BernoulliNB\n",
    "\n",
    "model = BernoulliNB().fit(x_train, y_train)\n",
    "y_pred = model.predict(x_test)\n",
    "\n",
    "acc_nbc = accuracy_score(y_test, y_pred)*100\n",
    "f1_nbc = f1_score(y_test, y_pred)*100\n",
    "\n",
    "print(\"The test accuracy score is \", acc_nbc)\n",
    "print(\"The test F1 score is\", f1_nbc)\n"
   ]
  },
  {
   "cell_type": "code",
   "execution_count": 33,
   "id": "efef7754",
   "metadata": {},
   "outputs": [
    {
     "name": "stdout",
     "output_type": "stream",
     "text": [
      "Confusion matrix: \n",
      " [[23  1]\n",
      " [ 1 21]]\n",
      "Classification Report: \n",
      "               precision    recall  f1-score   support\n",
      "\n",
      "           0       0.96      0.96      0.96        24\n",
      "           1       0.95      0.95      0.95        22\n",
      "\n",
      "    accuracy                           0.96        46\n",
      "   macro avg       0.96      0.96      0.96        46\n",
      "weighted avg       0.96      0.96      0.96        46\n",
      "\n"
     ]
    }
   ],
   "source": [
    "#Confusion matrix & Classification report\n",
    "from sklearn.metrics import confusion_matrix,classification_report\n",
    "confusion_mat = confusion_matrix(y_test,y_pred)\n",
    "print(\"Confusion matrix: \\n\",confusion_mat)\n",
    "print(\"Classification Report: \\n\",classification_report(y_test,y_pred))"
   ]
  },
  {
   "cell_type": "markdown",
   "id": "7f47f648",
   "metadata": {},
   "source": [
    "## 7.5.Random Forest Classifier   \n",
    "\n",
    "- Random forest is the supervised learning algorithm that can be used for both classification and regression problems in machine learning. It is an ensemble learning technique that provides the predictions by combining the multiple classifiers and improve the performance of the model.\n",
    "\n",
    "- It contains multiple decision trees for subsets of the given dataset, and find the average to improve the predictive accuracy of the model. "
   ]
  },
  {
   "cell_type": "code",
   "execution_count": 34,
   "id": "0c9ecf76",
   "metadata": {},
   "outputs": [
    {
     "name": "stdout",
     "output_type": "stream",
     "text": [
      "The test accuracy score is  89.13043478260869\n",
      "The test F1 score is 88.8888888888889\n"
     ]
    }
   ],
   "source": [
    "from sklearn.ensemble import RandomForestClassifier\n",
    "\n",
    "model = RandomForestClassifier(n_estimators = 100, max_depth=4).fit(x_train, y_train)  \n",
    "y_pred = model.predict(x_test)\n",
    "\n",
    "\n",
    "acc_rf = accuracy_score(y_test, y_pred)*100\n",
    "f1_rf = f1_score(y_test, y_pred)*100\n",
    "\n",
    "print(\"The test accuracy score is \", acc_rf)\n",
    "print(\"The test F1 score is\", f1_rf)\n"
   ]
  },
  {
   "cell_type": "code",
   "execution_count": 35,
   "id": "8dd9cb80",
   "metadata": {},
   "outputs": [
    {
     "name": "stdout",
     "output_type": "stream",
     "text": [
      "Confusion matrix: \n",
      " [[21  3]\n",
      " [ 2 20]]\n",
      "Classification Report: \n",
      "               precision    recall  f1-score   support\n",
      "\n",
      "           0       0.91      0.88      0.89        24\n",
      "           1       0.87      0.91      0.89        22\n",
      "\n",
      "    accuracy                           0.89        46\n",
      "   macro avg       0.89      0.89      0.89        46\n",
      "weighted avg       0.89      0.89      0.89        46\n",
      "\n"
     ]
    }
   ],
   "source": [
    "#Confusion matrix & Classification report\n",
    "from sklearn.metrics import confusion_matrix,classification_report\n",
    "confusion_mat = confusion_matrix(y_test,y_pred)\n",
    "print(\"Confusion matrix: \\n\",confusion_mat)\n",
    "print(\"Classification Report: \\n\",classification_report(y_test,y_pred))"
   ]
  },
  {
   "cell_type": "markdown",
   "id": "fe2aff72",
   "metadata": {},
   "source": [
    "## 7.6.KNeighbors Classifier:     \n",
    "- K-Nearest Neighbours is one of the most basic yet essential classification algorithms in Machine Learning. It belongs to the supervised learning domain and finds intense application in pattern recognition, data mining and intrusion detection.\n"
   ]
  },
  {
   "cell_type": "code",
   "execution_count": 36,
   "id": "24956ade",
   "metadata": {},
   "outputs": [
    {
     "name": "stdout",
     "output_type": "stream",
     "text": [
      "The test accuracy score is  89.13043478260869\n",
      "The test F1 score is 88.37209302325581\n"
     ]
    }
   ],
   "source": [
    "from sklearn.neighbors import KNeighborsClassifier\n",
    "\n",
    "model = KNeighborsClassifier(n_neighbors= 4).fit(x_train, y_train)  \n",
    "y_pred = model.predict(x_test)\n",
    "\n",
    "acc_knn = accuracy_score(y_test, y_pred)*100\n",
    "f1_knn= f1_score(y_test, y_pred)*100\n",
    "\n",
    "print(\"The test accuracy score is \", acc_knn)\n",
    "print(\"The test F1 score is\", f1_knn)"
   ]
  },
  {
   "cell_type": "code",
   "execution_count": 37,
   "id": "02fb8dc1",
   "metadata": {},
   "outputs": [
    {
     "name": "stdout",
     "output_type": "stream",
     "text": [
      "Confusion matrix: \n",
      " [[22  2]\n",
      " [ 3 19]]\n",
      "Classification Report: \n",
      "               precision    recall  f1-score   support\n",
      "\n",
      "           0       0.88      0.92      0.90        24\n",
      "           1       0.90      0.86      0.88        22\n",
      "\n",
      "    accuracy                           0.89        46\n",
      "   macro avg       0.89      0.89      0.89        46\n",
      "weighted avg       0.89      0.89      0.89        46\n",
      "\n"
     ]
    }
   ],
   "source": [
    "#Confusion matrix & Classification report\n",
    "from sklearn.metrics import confusion_matrix,classification_report\n",
    "confusion_mat = confusion_matrix(y_test,y_pred)\n",
    "print(\"Confusion matrix: \\n\",confusion_mat)\n",
    "print(\"Classification Report: \\n\",classification_report(y_test,y_pred))"
   ]
  },
  {
   "cell_type": "markdown",
   "id": "53f0ed13",
   "metadata": {},
   "source": [
    "## 7.7.Gradient Boosting for Classification    \n",
    "\n",
    "- GB builds an additive model in a forward stage-wise fashion; it allows for the optimization of arbitrary differentiable loss functions. In each stage nclasses regression trees are fit on the negative gradient of the binomial or multinomial deviance loss function. Binary classification is a special case where only a single regression tree is induced."
   ]
  },
  {
   "cell_type": "code",
   "execution_count": 38,
   "id": "8171d77d",
   "metadata": {},
   "outputs": [
    {
     "name": "stdout",
     "output_type": "stream",
     "text": [
      "The test accuracy score is  91.30434782608695\n",
      "The test F1 score is 90.9090909090909\n"
     ]
    }
   ],
   "source": [
    "from sklearn.ensemble import GradientBoostingClassifier\n",
    "\n",
    "model = GradientBoostingClassifier(n_estimators=200, learning_rate=0.05, max_depth=1).fit(x_train, y_train) \n",
    "y_pred = model.predict(x_test)\n",
    "\n",
    "acc_gb = accuracy_score(y_test, y_pred)*100\n",
    "f1_gb= f1_score(y_test, y_pred)*100\n",
    "\n",
    "print(\"The test accuracy score is \", acc_gb)\n",
    "print(\"The test F1 score is\", f1_gb)"
   ]
  },
  {
   "cell_type": "code",
   "execution_count": 39,
   "id": "8c2d77e7",
   "metadata": {},
   "outputs": [
    {
     "name": "stdout",
     "output_type": "stream",
     "text": [
      "Confusion matrix: \n",
      " [[22  2]\n",
      " [ 2 20]]\n",
      "Classification Report: \n",
      "               precision    recall  f1-score   support\n",
      "\n",
      "           0       0.92      0.92      0.92        24\n",
      "           1       0.91      0.91      0.91        22\n",
      "\n",
      "    accuracy                           0.91        46\n",
      "   macro avg       0.91      0.91      0.91        46\n",
      "weighted avg       0.91      0.91      0.91        46\n",
      "\n"
     ]
    }
   ],
   "source": [
    "#Confusion matrix & Classification report\n",
    "from sklearn.metrics import confusion_matrix,classification_report\n",
    "confusion_mat = confusion_matrix(y_test,y_pred)\n",
    "print(\"Confusion matrix: \\n\",confusion_mat)\n",
    "print(\"Classification Report: \\n\",classification_report(y_test,y_pred))"
   ]
  },
  {
   "cell_type": "code",
   "execution_count": 40,
   "id": "e5fcdf3d",
   "metadata": {},
   "outputs": [
    {
     "data": {
      "text/html": [
       "<div>\n",
       "<style scoped>\n",
       "    .dataframe tbody tr th:only-of-type {\n",
       "        vertical-align: middle;\n",
       "    }\n",
       "\n",
       "    .dataframe tbody tr th {\n",
       "        vertical-align: top;\n",
       "    }\n",
       "\n",
       "    .dataframe thead th {\n",
       "        text-align: right;\n",
       "    }\n",
       "</style>\n",
       "<table border=\"1\" class=\"dataframe\">\n",
       "  <thead>\n",
       "    <tr style=\"text-align: right;\">\n",
       "      <th></th>\n",
       "      <th>Model</th>\n",
       "      <th>Accuracy %</th>\n",
       "      <th>F1 Score %</th>\n",
       "    </tr>\n",
       "  </thead>\n",
       "  <tbody>\n",
       "    <tr>\n",
       "      <th>0</th>\n",
       "      <td>SVC</td>\n",
       "      <td>86.956522</td>\n",
       "      <td>86.363636</td>\n",
       "    </tr>\n",
       "    <tr>\n",
       "      <th>1</th>\n",
       "      <td>Logistic Regression</td>\n",
       "      <td>86.956522</td>\n",
       "      <td>86.956522</td>\n",
       "    </tr>\n",
       "    <tr>\n",
       "      <th>2</th>\n",
       "      <td>GaussianNB</td>\n",
       "      <td>86.956522</td>\n",
       "      <td>86.363636</td>\n",
       "    </tr>\n",
       "    <tr>\n",
       "      <th>3</th>\n",
       "      <td>Random Forest</td>\n",
       "      <td>89.130435</td>\n",
       "      <td>88.888889</td>\n",
       "    </tr>\n",
       "    <tr>\n",
       "      <th>4</th>\n",
       "      <td>KNN</td>\n",
       "      <td>89.130435</td>\n",
       "      <td>88.372093</td>\n",
       "    </tr>\n",
       "    <tr>\n",
       "      <th>5</th>\n",
       "      <td>GradientBoosting</td>\n",
       "      <td>91.304348</td>\n",
       "      <td>90.909091</td>\n",
       "    </tr>\n",
       "    <tr>\n",
       "      <th>6</th>\n",
       "      <td>BernoulliNB</td>\n",
       "      <td>95.652174</td>\n",
       "      <td>95.454545</td>\n",
       "    </tr>\n",
       "  </tbody>\n",
       "</table>\n",
       "</div>"
      ],
      "text/plain": [
       "                 Model  Accuracy %  F1 Score %\n",
       "0                  SVC   86.956522   86.363636\n",
       "1  Logistic Regression   86.956522   86.956522\n",
       "2           GaussianNB   86.956522   86.363636\n",
       "3        Random Forest   89.130435   88.888889\n",
       "4                  KNN   89.130435   88.372093\n",
       "5     GradientBoosting   91.304348   90.909091\n",
       "6          BernoulliNB   95.652174   95.454545"
      ]
     },
     "execution_count": 40,
     "metadata": {},
     "output_type": "execute_result"
    }
   ],
   "source": [
    "model_acc = pd.DataFrame({'Model':['SVC','Logistic Regression','GaussianNB','BernoulliNB','Random Forest','KNN','GradientBoosting'],\n",
    "                    'Accuracy %':[acc_svc,acc_lr,acc_gnb,acc_nbc,acc_rf,acc_knn,acc_gb],\n",
    "                    'F1 Score %':[f1_svc,f1_lr,f1_gnb,f1_nbc,f1_rf,f1_knn,f1_gb]})\n",
    "model_acc.sort_values(by='Accuracy %',ignore_index=True,inplace=True)\n",
    "model_acc"
   ]
  },
  {
   "cell_type": "code",
   "execution_count": 41,
   "id": "8cba1027",
   "metadata": {
    "scrolled": true
   },
   "outputs": [
    {
     "data": {
      "image/png": "[encoded data removed]",
      "text/plain": [
       "<Figure size 864x360 with 1 Axes>"
      ]
     },
     "metadata": {},
     "output_type": "display_data"
    }
   ],
   "source": [
    "plt.figure(figsize=(12,5))\n",
    "plt.title(\"Accuracy of different models\")\n",
    "plt.xlabel(\"Accuracy %\")\n",
    "plt.ylabel(\"Algorithms\")\n",
    "plt.bar(model_acc['Model'],model_acc['Accuracy %'],color=['Brown','grey','orange','darkcyan','violet','skyblue','green'])\n",
    "plt.show()"
   ]
  },
  {
   "cell_type": "markdown",
   "id": "13051e61",
   "metadata": {},
   "source": [
    "# 8.Conclusion:\n",
    "-  Comparing performance of model through Logistic regression,SVC,GaussianNB,Random forest,KNN,GradientBoosting and BernoulliNB method\n",
    "- we can see that the model perform well to predict where the patient is classified in havinga higher chance of getting heart attack to having less chance to heart attack.we can also see that BernoulliNB has higher chance of predicting more or less chance of having a heart attack compare to other model.\n",
    "- BernouliNB model accuracy score is 95% and F1 score is 95% "
   ]
  },
  {
   "cell_type": "code",
   "execution_count": null,
   "id": "8d8eb109",
   "metadata": {},
   "outputs": [],
   "source": []
  }
 ],
 "metadata": {
  "kernelspec": {
   "display_name": "Python 3 (ipykernel)",
   "language": "python",
   "name": "python3"
  },
  "language_info": {
   "codemirror_mode": {
    "name": "ipython",
    "version": 3
   },
   "file_extension": ".py",
   "mimetype": "text/x-python",
   "name": "python",
   "nbconvert_exporter": "python",
   "pygments_lexer": "ipython3",
   "version": "3.9.7"
  }
 },
 "nbformat": 4,
 "nbformat_minor": 5
}
